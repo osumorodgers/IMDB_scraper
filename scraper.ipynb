{
 "cells": [
  {
   "cell_type": "markdown",
   "metadata": {},
   "source": [
    "# SCRAPING IMDB SITE"
   ]
  },
  {
   "cell_type": "code",
   "execution_count": 43,
   "metadata": {},
   "outputs": [
    {
     "name": "stdout",
     "output_type": "stream",
     "text": [
      "\n",
      "\n",
      "<!DOCTYPE html>\n",
      "<html\n",
      "    xmlns:og=\"http://ogp.me/ns#\"\n",
      "    xmlns:fb=\"http://www.facebook.com/2008/fbml\">\n",
      "    <head>\n",
      "         \n",
      "        <meta charset=\"utf-8\">\n",
      "        <meta http-equiv=\"X-UA-Compatible\" content=\"IE=edge\">\n",
      "\n",
      "    <meta name=\"apple-itunes-app\" content=\"app-id=342792525, app-argument=imdb:///?src=mdot\">\n",
      "\n",
      "\n",
      "\n",
      "        <script type=\"text/javascript\">var IMDbTimer={starttime: new Date().getTime(),pt:'java'};</script>\n",
      "\n",
      "<script>\n",
      "    if (typeof uet == 'function') {\n",
      "      uet(\"bb\", \"LoadTitle\",\n"
     ]
    }
   ],
   "source": [
    "from bs4 import BeautifulSoup\n",
    "from requests import get\n",
    "url = 'https://www.imdb.com/search/title?release_date=2017&sort=num_votes,desc&page=1'\n",
    "response = get(url)\n",
    "print(response.text[:500])"
   ]
  },
  {
   "cell_type": "code",
   "execution_count": 44,
   "metadata": {},
   "outputs": [
    {
     "data": {
      "text/plain": [
       "bs4.BeautifulSoup"
      ]
     },
     "execution_count": 44,
     "metadata": {},
     "output_type": "execute_result"
    }
   ],
   "source": [
    "from bs4 import BeautifulSoup\n",
    "html_soup = BeautifulSoup(response.text, 'html.parser')\n",
    "type(html_soup)"
   ]
  },
  {
   "cell_type": "code",
   "execution_count": 45,
   "metadata": {},
   "outputs": [
    {
     "name": "stdout",
     "output_type": "stream",
     "text": [
      "<class 'bs4.element.ResultSet'>\n",
      "50\n"
     ]
    }
   ],
   "source": [
    "#Now let’s use the find_all() method to extract all the div containers that have a class attribute of lister-item mode-advanced:\n",
    "movie_containers = html_soup.find_all('div', class_ = 'lister-item mode-advanced')\n",
    "print(type(movie_containers))\n",
    "print(len(movie_containers))"
   ]
  },
  {
   "cell_type": "code",
   "execution_count": 46,
   "metadata": {},
   "outputs": [
    {
     "data": {
      "text/plain": [
       "<div class=\"lister-item mode-advanced\">\n",
       "<div class=\"lister-top-right\">\n",
       "<div class=\"ribbonize\" data-caller=\"filmosearch\" data-tconst=\"tt3315342\"></div>\n",
       "</div>\n",
       "<div class=\"lister-item-image float-left\">\n",
       "<a href=\"/title/tt3315342/\"> <img alt=\"Logan\" class=\"loadlate\" data-tconst=\"tt3315342\" height=\"98\" loadlate=\"https://m.media-amazon.com/images/M/MV5BYzc5MTU4N2EtYTkyMi00NjdhLTg3NWEtMTY4OTEyMzJhZTAzXkEyXkFqcGdeQXVyNjc1NTYyMjg@._V1_UX67_CR0,0,67,98_AL_.jpg\" src=\"https://m.media-amazon.com/images/S/sash/4FyxwxECzL-U1J8.png\" width=\"67\"/>\n",
       "</a> </div>\n",
       "<div class=\"lister-item-content\">\n",
       "<h3 class=\"lister-item-header\">\n",
       "<span class=\"lister-item-index unbold text-primary\">1.</span>\n",
       "<a href=\"/title/tt3315342/\">Logan</a>\n",
       "<span class=\"lister-item-year text-muted unbold\">(2017)</span>\n",
       "</h3>\n",
       "<p class=\"text-muted\">\n",
       "<span class=\"certificate\">R</span>\n",
       "<span class=\"ghost\">|</span>\n",
       "<span class=\"runtime\">137 min</span>\n",
       "<span class=\"ghost\">|</span>\n",
       "<span class=\"genre\">\n",
       "Action, Drama, Sci-Fi            </span>\n",
       "</p>\n",
       "<div class=\"ratings-bar\">\n",
       "<div class=\"inline-block ratings-imdb-rating\" data-value=\"8.1\" name=\"ir\">\n",
       "<span class=\"global-sprite rating-star imdb-rating\"></span>\n",
       "<strong>8.1</strong>\n",
       "</div>\n",
       "<div class=\"inline-block ratings-user-rating\">\n",
       "<span class=\"userRatingValue\" data-tconst=\"tt3315342\" id=\"urv_tt3315342\">\n",
       "<span class=\"global-sprite rating-star no-rating\"></span>\n",
       "<span class=\"rate\" data-no-rating=\"Rate this\" data-value=\"0\" name=\"ur\">Rate this</span>\n",
       "</span>\n",
       "<div class=\"starBarWidget\" id=\"sb_tt3315342\">\n",
       "<div class=\"rating rating-list\" data-csrf-token=\"\" data-ga-identifier=\"\" data-starbar-class=\"rating-list\" data-user=\"\" id=\"tt3315342|imdb|8.1|8.1|adv_li_tt||advsearch|title\" itemprop=\"aggregateRating\" itemscope=\"\" itemtype=\"http://schema.org/AggregateRating\" title=\"Users rated this 8.1/10 (664,423 votes) - click stars to rate\">\n",
       "<meta content=\"8.1\" itemprop=\"ratingValue\"/>\n",
       "<meta content=\"10\" itemprop=\"bestRating\"/>\n",
       "<meta content=\"664423\" itemprop=\"ratingCount\"/>\n",
       "<span class=\"rating-bg\"> </span>\n",
       "<span class=\"rating-imdb\" style=\"width: 113.4px\"> </span>\n",
       "<span class=\"rating-stars\">\n",
       "<a href=\"/register/login?why=vote\" rel=\"nofollow\" title=\"Register or login to rate this title\"><span>1</span></a>\n",
       "<a href=\"/register/login?why=vote\" rel=\"nofollow\" title=\"Register or login to rate this title\"><span>2</span></a>\n",
       "<a href=\"/register/login?why=vote\" rel=\"nofollow\" title=\"Register or login to rate this title\"><span>3</span></a>\n",
       "<a href=\"/register/login?why=vote\" rel=\"nofollow\" title=\"Register or login to rate this title\"><span>4</span></a>\n",
       "<a href=\"/register/login?why=vote\" rel=\"nofollow\" title=\"Register or login to rate this title\"><span>5</span></a>\n",
       "<a href=\"/register/login?why=vote\" rel=\"nofollow\" title=\"Register or login to rate this title\"><span>6</span></a>\n",
       "<a href=\"/register/login?why=vote\" rel=\"nofollow\" title=\"Register or login to rate this title\"><span>7</span></a>\n",
       "<a href=\"/register/login?why=vote\" rel=\"nofollow\" title=\"Register or login to rate this title\"><span>8</span></a>\n",
       "<a href=\"/register/login?why=vote\" rel=\"nofollow\" title=\"Register or login to rate this title\"><span>9</span></a>\n",
       "<a href=\"/register/login?why=vote\" rel=\"nofollow\" title=\"Register or login to rate this title\"><span>10</span></a>\n",
       "</span>\n",
       "<span class=\"rating-rating\"><span class=\"value\">8.1</span><span class=\"grey\">/</span><span class=\"grey\">10</span></span>\n",
       "<span class=\"rating-cancel\"><a href=\"/title/tt3315342/vote\" rel=\"nofollow\" title=\"Delete\"><span>X</span></a></span>\n",
       " </div>\n",
       "</div>\n",
       "</div>\n",
       "<div class=\"inline-block ratings-metascore\">\n",
       "<span class=\"metascore favorable\">77        </span>\n",
       "        Metascore\n",
       "            </div>\n",
       "</div>\n",
       "<p class=\"text-muted\">\n",
       "    In a future where mutants are nearly extinct, an elderly and weary Logan leads a quiet life. But when Laura, a mutant child pursued by scientists, comes to him for help, he must get her to safety.</p>\n",
       "<p class=\"\">\n",
       "    Director:\n",
       "<a href=\"/name/nm0003506/\">James Mangold</a>\n",
       "<span class=\"ghost\">|</span> \n",
       "    Stars:\n",
       "<a href=\"/name/nm0413168/\">Hugh Jackman</a>, \n",
       "<a href=\"/name/nm0001772/\">Patrick Stewart</a>, \n",
       "<a href=\"/name/nm6748436/\">Dafne Keen</a>, \n",
       "<a href=\"/name/nm2933542/\">Boyd Holbrook</a>\n",
       "</p>\n",
       "<p class=\"sort-num_votes-visible\">\n",
       "<span class=\"text-muted\">Votes:</span>\n",
       "<span data-value=\"664423\" name=\"nv\">664,423</span>\n",
       "<span class=\"ghost\">|</span> <span class=\"text-muted\">Gross:</span>\n",
       "<span data-value=\"226,277,068\" name=\"nv\">$226.28M</span>\n",
       "</p>\n",
       "</div>\n",
       "</div>"
      ]
     },
     "execution_count": 46,
     "metadata": {},
     "output_type": "execute_result"
    }
   ],
   "source": [
    "first_movie = movie_containers[0]\n",
    "first_movie"
   ]
  },
  {
   "cell_type": "code",
   "execution_count": 47,
   "metadata": {},
   "outputs": [
    {
     "data": {
      "text/plain": [
       "8.1"
      ]
     },
     "execution_count": 47,
     "metadata": {},
     "output_type": "execute_result"
    }
   ],
   "source": [
    "## MOVIE year\n",
    "first_movie.h3.a.text\n",
    "## Year\n",
    "first_year = first_movie.h3.find('span', class_ = 'lister-item-year text-muted unbold')\n",
    "first_year = first_year.text\n",
    "first_year\n",
    "## Rating\n",
    "first_movie.strong\n",
    "first_imdb = float(first_movie.strong.text)\n",
    "first_imdb"
   ]
  },
  {
   "cell_type": "code",
   "execution_count": 48,
   "metadata": {},
   "outputs": [
    {
     "name": "stdout",
     "output_type": "stream",
     "text": [
      "77\n"
     ]
    }
   ],
   "source": [
    "### Metascore\n",
    "first_mscore = first_movie.find('span', class_ = 'metascore favorable')\n",
    "first_mscore = int(first_mscore.text)\n",
    "print(first_mscore)\n"
   ]
  },
  {
   "cell_type": "code",
   "execution_count": 49,
   "metadata": {},
   "outputs": [
    {
     "data": {
      "text/plain": [
       "664423"
      ]
     },
     "execution_count": 49,
     "metadata": {},
     "output_type": "execute_result"
    }
   ],
   "source": [
    "first_votes = first_movie.find('span', attrs = {'name':'nv'})\n",
    "first_votes['data-value']\n",
    "first_votes = int(first_votes['data-value'])\n",
    "first_votes"
   ]
  },
  {
   "cell_type": "code",
   "execution_count": 50,
   "metadata": {},
   "outputs": [
    {
     "data": {
      "text/plain": [
       "'$226.28M'"
      ]
     },
     "execution_count": 50,
     "metadata": {},
     "output_type": "execute_result"
    }
   ],
   "source": [
    "Votes_Gross = first_movie.find('p', class_ = 'sort-num_votes-visible')\n",
    "Gross = first_movie.find_all('span', attrs = {'name':'nv'})\n",
    "Gross = Gross[1].text\n",
    "Gross\n"
   ]
  },
  {
   "cell_type": "code",
   "execution_count": 51,
   "metadata": {},
   "outputs": [
    {
     "ename": "TypeError",
     "evalue": "'NoneType' object is not subscriptable",
     "output_type": "error",
     "traceback": [
      "\u001b[1;31m---------------------------------------------------------------------------\u001b[0m",
      "\u001b[1;31mTypeError\u001b[0m                                 Traceback (most recent call last)",
      "\u001b[1;32m<ipython-input-51-8eae88ab54e7>\u001b[0m in \u001b[0;36m<module>\u001b[1;34m\u001b[0m\n\u001b[0;32m      6\u001b[0m         \u001b[1;32mfor\u001b[0m \u001b[0mtag\u001b[0m \u001b[1;32min\u001b[0m \u001b[0mcontainer\u001b[0m\u001b[1;33m.\u001b[0m\u001b[0mfind_all\u001b[0m\u001b[1;33m(\u001b[0m\u001b[1;34m'span'\u001b[0m\u001b[1;33m,\u001b[0m\u001b[0mattrs\u001b[0m \u001b[1;33m=\u001b[0m\u001b[1;33m{\u001b[0m\u001b[1;34m'name'\u001b[0m\u001b[1;33m:\u001b[0m\u001b[1;34m'nv'\u001b[0m\u001b[1;33m}\u001b[0m\u001b[1;33m)\u001b[0m\u001b[1;33m:\u001b[0m\u001b[1;33m\u001b[0m\u001b[1;33m\u001b[0m\u001b[0m\n\u001b[0;32m      7\u001b[0m             \u001b[1;32mtry\u001b[0m\u001b[1;33m:\u001b[0m\u001b[1;33m\u001b[0m\u001b[1;33m\u001b[0m\u001b[0m\n\u001b[1;32m----> 8\u001b[1;33m                 \u001b[0mGross\u001b[0m \u001b[1;33m=\u001b[0m \u001b[0mtag\u001b[0m\u001b[1;33m.\u001b[0m\u001b[0mfind\u001b[0m\u001b[1;33m(\u001b[0m\u001b[1;34m'span'\u001b[0m\u001b[1;33m,\u001b[0m\u001b[0mattrs\u001b[0m \u001b[1;33m=\u001b[0m\u001b[1;33m{\u001b[0m\u001b[1;34m'name'\u001b[0m\u001b[1;33m:\u001b[0m\u001b[1;34m'nv'\u001b[0m\u001b[1;33m}\u001b[0m\u001b[1;33m)\u001b[0m\u001b[1;33m[\u001b[0m\u001b[1;36m1\u001b[0m\u001b[1;33m]\u001b[0m\u001b[1;33m\u001b[0m\u001b[1;33m\u001b[0m\u001b[0m\n\u001b[0m\u001b[0;32m      9\u001b[0m                 \u001b[0mGross\u001b[0m\u001b[1;33m.\u001b[0m\u001b[0mappend\u001b[0m\u001b[1;33m(\u001b[0m\u001b[0mGross\u001b[0m\u001b[1;33m)\u001b[0m  \u001b[1;31m# or whatever you like to store it\u001b[0m\u001b[1;33m\u001b[0m\u001b[1;33m\u001b[0m\u001b[0m\n\u001b[0;32m     10\u001b[0m             \u001b[1;32mexcept\u001b[0m \u001b[0mIndexError\u001b[0m\u001b[1;33m:\u001b[0m\u001b[1;33m\u001b[0m\u001b[1;33m\u001b[0m\u001b[0m\n",
      "\u001b[1;31mTypeError\u001b[0m: 'NoneType' object is not subscriptable"
     ]
    }
   ],
   "source": [
    "# Gross\n",
    "for container in movie_containers:\n",
    "# If the movie has Metascore, then extract:\n",
    "    if container.find('div', class_ = 'ratings-metascore') is not None:\n",
    "        i = 0\n",
    "        for tag in container.find_all('span',attrs ={'name':'nv'}):\n",
    "            try:\n",
    "                Gross = tag.find('span',attrs ={'name':'nv'})[1]\n",
    "                Gross.append(Gross)  # or whatever you like to store it\n",
    "            except IndexError:\n",
    "                pass\n",
    "Gross"
   ]
  },
  {
   "cell_type": "code",
   "execution_count": null,
   "metadata": {},
   "outputs": [],
   "source": [
    "# Lists to store the scraped data in\n",
    "names = []\n",
    "years = []\n",
    "imdb_ratings = []\n",
    "metascores = []\n",
    "votes = []\n",
    "# Extract data from individual movie container\n",
    "for container in movie_containers:\n",
    "# If the movie has Metascore, then extract:\n",
    "    if container.find('div', class_ = 'ratings-metascore') is not None:\n",
    "    # The name\n",
    "        name = container.h3.a.text\n",
    "        names.append(name)\n",
    "    # The year\n",
    "        year = container.h3.find('span', class_ = 'lister-item-year').text\n",
    "        years.append(year)\n",
    "    # The IMDB rating\n",
    "        imdb = float(container.strong.text)\n",
    "        imdb_ratings.append(imdb)\n",
    "    # The Metascore\n",
    "        m_score = container.find('span', class_ = 'metascore').text\n",
    "        metascores.append(int(m_score))\n",
    "    # The number of votes\n",
    "        vote = container.find('span', attrs = {'name':'nv'})['data-value']\n",
    "        votes.append(int(vote))\n",
    "    # Gross\n",
    "        i = 0\n",
    "        for tag in container.find_all('span',attrs ={'name':'nv'}):\n",
    "            try:\n",
    "                Gross = tag.find_all('span',attrs ={'name':'nv'})[1].text.strip()\n",
    "                result.append(Gross)  # or whatever you like to store it\n",
    "            except IndexError:\n",
    "                pass\n"
   ]
  },
  {
   "cell_type": "markdown",
   "metadata": {},
   "source": [
    "### Problem with the movie Grossing \n"
   ]
  },
  {
   "cell_type": "code",
   "execution_count": null,
   "metadata": {},
   "outputs": [],
   "source": [
    "Gross = container.find('span', attrs = {'name':'nv'})\n",
    "Gross\n",
    "i = 0\n",
    "for tag in container.find_all('span',attrs ={'name':'nv'}):\n",
    "    try:\n",
    "        Gross = tag.find_all('span')[0].text.strip()\n",
    "        #result.append(Gross)  # or whatever you like to store it\n",
    "    except IndexError:\n",
    "        pass\n",
    "    #print (tag.text[1:])\n",
    "    "
   ]
  },
  {
   "cell_type": "code",
   "execution_count": null,
   "metadata": {},
   "outputs": [
    {
     "name": "stdout",
     "output_type": "stream",
     "text": [
      "<class 'pandas.core.frame.DataFrame'>\n",
      "RangeIndex: 42 entries, 0 to 41\n",
      "Data columns (total 6 columns):\n",
      " #   Column     Non-Null Count  Dtype  \n",
      "---  ------     --------------  -----  \n",
      " 0   movie      42 non-null     object \n",
      " 1   year       42 non-null     object \n",
      " 2   imdb       42 non-null     float64\n",
      " 3   metascore  42 non-null     int64  \n",
      " 4   votes      42 non-null     int64  \n",
      " 5   Gross      42 non-null     object \n",
      "dtypes: float64(1), int64(2), object(3)\n",
      "memory usage: 2.1+ KB\n",
      "None\n"
     ]
    },
    {
     "data": {
      "text/html": [
       "<div>\n",
       "<style scoped>\n",
       "    .dataframe tbody tr th:only-of-type {\n",
       "        vertical-align: middle;\n",
       "    }\n",
       "\n",
       "    .dataframe tbody tr th {\n",
       "        vertical-align: top;\n",
       "    }\n",
       "\n",
       "    .dataframe thead th {\n",
       "        text-align: right;\n",
       "    }\n",
       "</style>\n",
       "<table border=\"1\" class=\"dataframe\">\n",
       "  <thead>\n",
       "    <tr style=\"text-align: right;\">\n",
       "      <th></th>\n",
       "      <th>movie</th>\n",
       "      <th>year</th>\n",
       "      <th>imdb</th>\n",
       "      <th>metascore</th>\n",
       "      <th>votes</th>\n",
       "      <th>Gross</th>\n",
       "    </tr>\n",
       "  </thead>\n",
       "  <tbody>\n",
       "    <tr>\n",
       "      <th>0</th>\n",
       "      <td>Logan</td>\n",
       "      <td>(2017)</td>\n",
       "      <td>8.1</td>\n",
       "      <td>77</td>\n",
       "      <td>664411</td>\n",
       "      <td>162,108</td>\n",
       "    </tr>\n",
       "    <tr>\n",
       "      <th>1</th>\n",
       "      <td>Thor: Ragnarok</td>\n",
       "      <td>(2017)</td>\n",
       "      <td>7.9</td>\n",
       "      <td>74</td>\n",
       "      <td>611518</td>\n",
       "      <td>162,108</td>\n",
       "    </tr>\n",
       "    <tr>\n",
       "      <th>2</th>\n",
       "      <td>Wonder Woman</td>\n",
       "      <td>(2017)</td>\n",
       "      <td>7.4</td>\n",
       "      <td>76</td>\n",
       "      <td>591474</td>\n",
       "      <td>162,108</td>\n",
       "    </tr>\n",
       "    <tr>\n",
       "      <th>3</th>\n",
       "      <td>Guardians of the Galaxy Vol. 2</td>\n",
       "      <td>(2017)</td>\n",
       "      <td>7.6</td>\n",
       "      <td>67</td>\n",
       "      <td>586164</td>\n",
       "      <td>162,108</td>\n",
       "    </tr>\n",
       "    <tr>\n",
       "      <th>4</th>\n",
       "      <td>Star Wars: Episode VIII - The Last Jedi</td>\n",
       "      <td>(2017)</td>\n",
       "      <td>7.0</td>\n",
       "      <td>84</td>\n",
       "      <td>575270</td>\n",
       "      <td>162,108</td>\n",
       "    </tr>\n",
       "    <tr>\n",
       "      <th>5</th>\n",
       "      <td>Dunkirk</td>\n",
       "      <td>(2017)</td>\n",
       "      <td>7.8</td>\n",
       "      <td>94</td>\n",
       "      <td>571811</td>\n",
       "      <td>162,108</td>\n",
       "    </tr>\n",
       "    <tr>\n",
       "      <th>6</th>\n",
       "      <td>Spider-Man: Homecoming</td>\n",
       "      <td>(2017)</td>\n",
       "      <td>7.4</td>\n",
       "      <td>73</td>\n",
       "      <td>529768</td>\n",
       "      <td>162,108</td>\n",
       "    </tr>\n",
       "    <tr>\n",
       "      <th>7</th>\n",
       "      <td>Get Out</td>\n",
       "      <td>(I) (2017)</td>\n",
       "      <td>7.7</td>\n",
       "      <td>85</td>\n",
       "      <td>507155</td>\n",
       "      <td>162,108</td>\n",
       "    </tr>\n",
       "    <tr>\n",
       "      <th>8</th>\n",
       "      <td>Blade Runner 2049</td>\n",
       "      <td>(2017)</td>\n",
       "      <td>8.0</td>\n",
       "      <td>81</td>\n",
       "      <td>477398</td>\n",
       "      <td>162,108</td>\n",
       "    </tr>\n",
       "    <tr>\n",
       "      <th>9</th>\n",
       "      <td>It</td>\n",
       "      <td>(I) (2017)</td>\n",
       "      <td>7.3</td>\n",
       "      <td>69</td>\n",
       "      <td>469252</td>\n",
       "      <td>162,108</td>\n",
       "    </tr>\n",
       "    <tr>\n",
       "      <th>10</th>\n",
       "      <td>Baby Driver</td>\n",
       "      <td>(2017)</td>\n",
       "      <td>7.6</td>\n",
       "      <td>86</td>\n",
       "      <td>453209</td>\n",
       "      <td>162,108</td>\n",
       "    </tr>\n",
       "    <tr>\n",
       "      <th>11</th>\n",
       "      <td>Three Billboards Outside Ebbing, Missouri</td>\n",
       "      <td>(2017)</td>\n",
       "      <td>8.1</td>\n",
       "      <td>88</td>\n",
       "      <td>448465</td>\n",
       "      <td>162,108</td>\n",
       "    </tr>\n",
       "    <tr>\n",
       "      <th>12</th>\n",
       "      <td>Justice League</td>\n",
       "      <td>(2017)</td>\n",
       "      <td>6.2</td>\n",
       "      <td>45</td>\n",
       "      <td>413278</td>\n",
       "      <td>162,108</td>\n",
       "    </tr>\n",
       "    <tr>\n",
       "      <th>13</th>\n",
       "      <td>Coco</td>\n",
       "      <td>(I) (2017)</td>\n",
       "      <td>8.4</td>\n",
       "      <td>81</td>\n",
       "      <td>403990</td>\n",
       "      <td>162,108</td>\n",
       "    </tr>\n",
       "    <tr>\n",
       "      <th>14</th>\n",
       "      <td>The Shape of Water</td>\n",
       "      <td>(2017)</td>\n",
       "      <td>7.3</td>\n",
       "      <td>87</td>\n",
       "      <td>381259</td>\n",
       "      <td>162,108</td>\n",
       "    </tr>\n",
       "    <tr>\n",
       "      <th>15</th>\n",
       "      <td>John Wick: Chapter 2</td>\n",
       "      <td>(2017)</td>\n",
       "      <td>7.5</td>\n",
       "      <td>75</td>\n",
       "      <td>377319</td>\n",
       "      <td>162,108</td>\n",
       "    </tr>\n",
       "    <tr>\n",
       "      <th>16</th>\n",
       "      <td>Jumanji: Welcome to the Jungle</td>\n",
       "      <td>(2017)</td>\n",
       "      <td>6.9</td>\n",
       "      <td>58</td>\n",
       "      <td>329003</td>\n",
       "      <td>162,108</td>\n",
       "    </tr>\n",
       "    <tr>\n",
       "      <th>17</th>\n",
       "      <td>Kong: Skull Island</td>\n",
       "      <td>(2017)</td>\n",
       "      <td>6.6</td>\n",
       "      <td>62</td>\n",
       "      <td>287866</td>\n",
       "      <td>162,108</td>\n",
       "    </tr>\n",
       "    <tr>\n",
       "      <th>18</th>\n",
       "      <td>Kingsman: The Golden Circle</td>\n",
       "      <td>(2017)</td>\n",
       "      <td>6.7</td>\n",
       "      <td>44</td>\n",
       "      <td>280640</td>\n",
       "      <td>162,108</td>\n",
       "    </tr>\n",
       "    <tr>\n",
       "      <th>19</th>\n",
       "      <td>Beauty and the Beast</td>\n",
       "      <td>(I) (2017)</td>\n",
       "      <td>7.1</td>\n",
       "      <td>65</td>\n",
       "      <td>279831</td>\n",
       "      <td>162,108</td>\n",
       "    </tr>\n",
       "    <tr>\n",
       "      <th>20</th>\n",
       "      <td>Pirates of the Caribbean: Dead Men Tell No Tales</td>\n",
       "      <td>(2017)</td>\n",
       "      <td>6.5</td>\n",
       "      <td>39</td>\n",
       "      <td>270754</td>\n",
       "      <td>162,108</td>\n",
       "    </tr>\n",
       "    <tr>\n",
       "      <th>21</th>\n",
       "      <td>Alien: Covenant</td>\n",
       "      <td>(2017)</td>\n",
       "      <td>6.4</td>\n",
       "      <td>65</td>\n",
       "      <td>258791</td>\n",
       "      <td>162,108</td>\n",
       "    </tr>\n",
       "    <tr>\n",
       "      <th>22</th>\n",
       "      <td>Lady Bird</td>\n",
       "      <td>(2017)</td>\n",
       "      <td>7.4</td>\n",
       "      <td>94</td>\n",
       "      <td>250024</td>\n",
       "      <td>162,108</td>\n",
       "    </tr>\n",
       "    <tr>\n",
       "      <th>23</th>\n",
       "      <td>The Greatest Showman</td>\n",
       "      <td>(2017)</td>\n",
       "      <td>7.6</td>\n",
       "      <td>48</td>\n",
       "      <td>246600</td>\n",
       "      <td>162,108</td>\n",
       "    </tr>\n",
       "    <tr>\n",
       "      <th>24</th>\n",
       "      <td>War for the Planet of the Apes</td>\n",
       "      <td>(2017)</td>\n",
       "      <td>7.4</td>\n",
       "      <td>82</td>\n",
       "      <td>232325</td>\n",
       "      <td>162,108</td>\n",
       "    </tr>\n",
       "    <tr>\n",
       "      <th>25</th>\n",
       "      <td>Call Me by Your Name</td>\n",
       "      <td>(2017)</td>\n",
       "      <td>7.9</td>\n",
       "      <td>93</td>\n",
       "      <td>222643</td>\n",
       "      <td>162,108</td>\n",
       "    </tr>\n",
       "    <tr>\n",
       "      <th>26</th>\n",
       "      <td>Murder on the Orient Express</td>\n",
       "      <td>(2017)</td>\n",
       "      <td>6.5</td>\n",
       "      <td>52</td>\n",
       "      <td>218283</td>\n",
       "      <td>162,108</td>\n",
       "    </tr>\n",
       "    <tr>\n",
       "      <th>27</th>\n",
       "      <td>Wind River</td>\n",
       "      <td>(2017)</td>\n",
       "      <td>7.7</td>\n",
       "      <td>73</td>\n",
       "      <td>213347</td>\n",
       "      <td>162,108</td>\n",
       "    </tr>\n",
       "    <tr>\n",
       "      <th>28</th>\n",
       "      <td>Life</td>\n",
       "      <td>(I) (2017)</td>\n",
       "      <td>6.6</td>\n",
       "      <td>54</td>\n",
       "      <td>210891</td>\n",
       "      <td>162,108</td>\n",
       "    </tr>\n",
       "    <tr>\n",
       "      <th>29</th>\n",
       "      <td>The Fate of the Furious</td>\n",
       "      <td>(2017)</td>\n",
       "      <td>6.6</td>\n",
       "      <td>56</td>\n",
       "      <td>209287</td>\n",
       "      <td>162,108</td>\n",
       "    </tr>\n",
       "    <tr>\n",
       "      <th>30</th>\n",
       "      <td>Ghost in the Shell</td>\n",
       "      <td>(2017)</td>\n",
       "      <td>6.3</td>\n",
       "      <td>52</td>\n",
       "      <td>199510</td>\n",
       "      <td>162,108</td>\n",
       "    </tr>\n",
       "    <tr>\n",
       "      <th>31</th>\n",
       "      <td>King Arthur: Legend of the Sword</td>\n",
       "      <td>(2017)</td>\n",
       "      <td>6.7</td>\n",
       "      <td>41</td>\n",
       "      <td>196442</td>\n",
       "      <td>162,108</td>\n",
       "    </tr>\n",
       "    <tr>\n",
       "      <th>32</th>\n",
       "      <td>Mother!</td>\n",
       "      <td>(2017)</td>\n",
       "      <td>6.6</td>\n",
       "      <td>75</td>\n",
       "      <td>195879</td>\n",
       "      <td>162,108</td>\n",
       "    </tr>\n",
       "    <tr>\n",
       "      <th>33</th>\n",
       "      <td>The Hitman's Bodyguard</td>\n",
       "      <td>(2017)</td>\n",
       "      <td>6.9</td>\n",
       "      <td>47</td>\n",
       "      <td>192561</td>\n",
       "      <td>162,108</td>\n",
       "    </tr>\n",
       "    <tr>\n",
       "      <th>34</th>\n",
       "      <td>I, Tonya</td>\n",
       "      <td>(2017)</td>\n",
       "      <td>7.5</td>\n",
       "      <td>77</td>\n",
       "      <td>188461</td>\n",
       "      <td>162,108</td>\n",
       "    </tr>\n",
       "    <tr>\n",
       "      <th>35</th>\n",
       "      <td>Atomic Blonde</td>\n",
       "      <td>(2017)</td>\n",
       "      <td>6.7</td>\n",
       "      <td>63</td>\n",
       "      <td>179707</td>\n",
       "      <td>162,108</td>\n",
       "    </tr>\n",
       "    <tr>\n",
       "      <th>36</th>\n",
       "      <td>Darkest Hour</td>\n",
       "      <td>(2017)</td>\n",
       "      <td>7.4</td>\n",
       "      <td>75</td>\n",
       "      <td>176571</td>\n",
       "      <td>162,108</td>\n",
       "    </tr>\n",
       "    <tr>\n",
       "      <th>37</th>\n",
       "      <td>The Mummy</td>\n",
       "      <td>(2017)</td>\n",
       "      <td>5.4</td>\n",
       "      <td>34</td>\n",
       "      <td>175704</td>\n",
       "      <td>162,108</td>\n",
       "    </tr>\n",
       "    <tr>\n",
       "      <th>38</th>\n",
       "      <td>Bright</td>\n",
       "      <td>(I) (2017)</td>\n",
       "      <td>6.3</td>\n",
       "      <td>29</td>\n",
       "      <td>172120</td>\n",
       "      <td>162,108</td>\n",
       "    </tr>\n",
       "    <tr>\n",
       "      <th>39</th>\n",
       "      <td>Baywatch</td>\n",
       "      <td>(2017)</td>\n",
       "      <td>5.5</td>\n",
       "      <td>37</td>\n",
       "      <td>165968</td>\n",
       "      <td>162,108</td>\n",
       "    </tr>\n",
       "    <tr>\n",
       "      <th>40</th>\n",
       "      <td>Valerian and the City of a Thousand Planets</td>\n",
       "      <td>(2017)</td>\n",
       "      <td>6.5</td>\n",
       "      <td>51</td>\n",
       "      <td>165904</td>\n",
       "      <td>162,108</td>\n",
       "    </tr>\n",
       "    <tr>\n",
       "      <th>41</th>\n",
       "      <td>American Made</td>\n",
       "      <td>(2017)</td>\n",
       "      <td>7.2</td>\n",
       "      <td>65</td>\n",
       "      <td>162108</td>\n",
       "      <td>162,108</td>\n",
       "    </tr>\n",
       "  </tbody>\n",
       "</table>\n",
       "</div>"
      ],
      "text/plain": [
       "                                               movie        year  imdb  \\\n",
       "0                                              Logan      (2017)   8.1   \n",
       "1                                     Thor: Ragnarok      (2017)   7.9   \n",
       "2                                       Wonder Woman      (2017)   7.4   \n",
       "3                     Guardians of the Galaxy Vol. 2      (2017)   7.6   \n",
       "4            Star Wars: Episode VIII - The Last Jedi      (2017)   7.0   \n",
       "5                                            Dunkirk      (2017)   7.8   \n",
       "6                             Spider-Man: Homecoming      (2017)   7.4   \n",
       "7                                            Get Out  (I) (2017)   7.7   \n",
       "8                                  Blade Runner 2049      (2017)   8.0   \n",
       "9                                                 It  (I) (2017)   7.3   \n",
       "10                                       Baby Driver      (2017)   7.6   \n",
       "11         Three Billboards Outside Ebbing, Missouri      (2017)   8.1   \n",
       "12                                    Justice League      (2017)   6.2   \n",
       "13                                              Coco  (I) (2017)   8.4   \n",
       "14                                The Shape of Water      (2017)   7.3   \n",
       "15                              John Wick: Chapter 2      (2017)   7.5   \n",
       "16                    Jumanji: Welcome to the Jungle      (2017)   6.9   \n",
       "17                                Kong: Skull Island      (2017)   6.6   \n",
       "18                       Kingsman: The Golden Circle      (2017)   6.7   \n",
       "19                              Beauty and the Beast  (I) (2017)   7.1   \n",
       "20  Pirates of the Caribbean: Dead Men Tell No Tales      (2017)   6.5   \n",
       "21                                   Alien: Covenant      (2017)   6.4   \n",
       "22                                         Lady Bird      (2017)   7.4   \n",
       "23                              The Greatest Showman      (2017)   7.6   \n",
       "24                    War for the Planet of the Apes      (2017)   7.4   \n",
       "25                              Call Me by Your Name      (2017)   7.9   \n",
       "26                      Murder on the Orient Express      (2017)   6.5   \n",
       "27                                        Wind River      (2017)   7.7   \n",
       "28                                              Life  (I) (2017)   6.6   \n",
       "29                           The Fate of the Furious      (2017)   6.6   \n",
       "30                                Ghost in the Shell      (2017)   6.3   \n",
       "31                  King Arthur: Legend of the Sword      (2017)   6.7   \n",
       "32                                           Mother!      (2017)   6.6   \n",
       "33                            The Hitman's Bodyguard      (2017)   6.9   \n",
       "34                                          I, Tonya      (2017)   7.5   \n",
       "35                                     Atomic Blonde      (2017)   6.7   \n",
       "36                                      Darkest Hour      (2017)   7.4   \n",
       "37                                         The Mummy      (2017)   5.4   \n",
       "38                                            Bright  (I) (2017)   6.3   \n",
       "39                                          Baywatch      (2017)   5.5   \n",
       "40       Valerian and the City of a Thousand Planets      (2017)   6.5   \n",
       "41                                     American Made      (2017)   7.2   \n",
       "\n",
       "    metascore   votes    Gross  \n",
       "0          77  664411  162,108  \n",
       "1          74  611518  162,108  \n",
       "2          76  591474  162,108  \n",
       "3          67  586164  162,108  \n",
       "4          84  575270  162,108  \n",
       "5          94  571811  162,108  \n",
       "6          73  529768  162,108  \n",
       "7          85  507155  162,108  \n",
       "8          81  477398  162,108  \n",
       "9          69  469252  162,108  \n",
       "10         86  453209  162,108  \n",
       "11         88  448465  162,108  \n",
       "12         45  413278  162,108  \n",
       "13         81  403990  162,108  \n",
       "14         87  381259  162,108  \n",
       "15         75  377319  162,108  \n",
       "16         58  329003  162,108  \n",
       "17         62  287866  162,108  \n",
       "18         44  280640  162,108  \n",
       "19         65  279831  162,108  \n",
       "20         39  270754  162,108  \n",
       "21         65  258791  162,108  \n",
       "22         94  250024  162,108  \n",
       "23         48  246600  162,108  \n",
       "24         82  232325  162,108  \n",
       "25         93  222643  162,108  \n",
       "26         52  218283  162,108  \n",
       "27         73  213347  162,108  \n",
       "28         54  210891  162,108  \n",
       "29         56  209287  162,108  \n",
       "30         52  199510  162,108  \n",
       "31         41  196442  162,108  \n",
       "32         75  195879  162,108  \n",
       "33         47  192561  162,108  \n",
       "34         77  188461  162,108  \n",
       "35         63  179707  162,108  \n",
       "36         75  176571  162,108  \n",
       "37         34  175704  162,108  \n",
       "38         29  172120  162,108  \n",
       "39         37  165968  162,108  \n",
       "40         51  165904  162,108  \n",
       "41         65  162108  162,108  "
      ]
     },
     "execution_count": 20,
     "metadata": {},
     "output_type": "execute_result"
    }
   ],
   "source": [
    "import pandas as pd\n",
    "test_df = pd.DataFrame({'movie': names,\n",
    "'year': years,\n",
    "'imdb': imdb_ratings,\n",
    "'metascore': metascores,\n",
    "'votes': votes,\n",
    "'Gross':Gross\n",
    "})\n",
    "print(test_df.info())\n",
    "test_df"
   ]
  },
  {
   "cell_type": "markdown",
   "metadata": {},
   "source": [
    "### Scraping Multiple Pages"
   ]
  },
  {
   "cell_type": "code",
   "execution_count": null,
   "metadata": {},
   "outputs": [],
   "source": [
    "#Create a list called pages, and populate it with the strings corresponding to the first 4 pages.\n",
    "#Create a list called years_url and populate it with the strings corresponding to the years 2000-2017.\n",
    "pages = [str(i) for i in range(1,5)]\n",
    "years_url = [str(i) for i in range(2000,2017)]"
   ]
  },
  {
   "cell_type": "markdown",
   "metadata": {},
   "source": [
    "Controlling the rate of crawling is beneficial for us, and for the website we are scraping. If we avoid hammering the server with tens of requests per second, then we are much less likely to get our IP address banned. We also avoid disrupting the activity of the website we scrape by allowing the server to respond to other users’ requests too.\n",
    "\n",
    "We’ll control the loop’s rate by using the sleep() function from Python’s time module. sleep() will pause the execution of the loop for a specified amount of seconds.\n",
    "\n",
    "To mimic human behavior, we’ll vary the amount of waiting time between requests by using the randint() function from the Python’s random module. randint() randomly generates integers within a specified interval."
   ]
  },
  {
   "cell_type": "code",
   "execution_count": null,
   "metadata": {},
   "outputs": [],
   "source": [
    "from time import sleep\n",
    "from random import randint"
   ]
  },
  {
   "cell_type": "markdown",
   "metadata": {},
   "source": [
    "### Monitoring the loop as it’s still going\n",
    "Given that we’re scraping 72 pages, it would be nice if we could find a way to monitor the scraping process as it’s still going. This feature is definitely optional, but it can be very helpful in the testing and debugging process. Also, the greater the number of pages, the more helpful the monitoring becomes. If you are going to scrape hundreds or thousands of web pages in a single code run, I would say that this feature becomes a must.\n",
    "\n",
    "For our script, we’ll make use of this feature, and monitor the following parameters:\n",
    "\n",
    "The frequency (speed) of requests, so we make sure our program is not overloading the server.\n",
    "The number of requests, so we can halt the loop in case the number of expected requests is exceeded.\n",
    "The status code of our requests, so we make sure the server is sending back the proper responses.\n",
    "To get a frequency value we’ll divide the number of requests by the time elapsed since the first request. This is similar to computing the speed of a car – we divide the distance by the time taken to cover that distance. Let’s experiment with this monitoring technique at a small scale first. In the following code cell we will:\n",
    "\n",
    "Set a starting time using the time() function from the time module, and assign the value to start_time.\n",
    "Assign 0 to the variable requests which we’ll use to count the number of requests.\n",
    "Start a loop, and then with each iteration:\n",
    "Simulate a request.\n",
    "Increment the number of requests by 1.\n",
    "Pause the loop for a time interval between 8 and 15 seconds.\n",
    "Calculate the elapsed time since the first request, and assign the value to elapsed_time.\n",
    "Print the number of requests and the frequency."
   ]
  },
  {
   "cell_type": "code",
   "execution_count": null,
   "metadata": {},
   "outputs": [
    {
     "name": "stdout",
     "output_type": "stream",
     "text": [
      "Request: 1; Frequency: 0.9973422778512137 requests/s\n",
      "Request: 2; Frequency: 0.6649863001188772 requests/s\n",
      "Request: 3; Frequency: 0.5975644105377419 requests/s\n",
      "Request: 4; Frequency: 0.49797368547042975 requests/s\n",
      "Request: 5; Frequency: 0.4976202803650944 requests/s\n"
     ]
    }
   ],
   "source": [
    "from time import time\n",
    "start_time = time()\n",
    "requests = 0\n",
    "for _ in range(5):\n",
    "# A request would go here\n",
    "    requests += 1\n",
    "    sleep(randint(1,3))\n",
    "    elapsed_time = time() - start_time\n",
    "    print('Request: {}; Frequency: {} requests/s'.format(requests, requests/elapsed_time))"
   ]
  },
  {
   "cell_type": "markdown",
   "metadata": {},
   "source": [
    "Since we’re going to make 72 requests, our work will look a bit untidy as the output accumulates. To avoid that, we’ll clear the output after each iteration, and replace it with information about the most recent request. To do that we’ll use the clear_output()function from the IPython’s core.display module. We’ll set the wait parameter of clear_output() to True to wait with replacing the current output until some new output appears."
   ]
  },
  {
   "cell_type": "code",
   "execution_count": null,
   "metadata": {},
   "outputs": [
    {
     "name": "stdout",
     "output_type": "stream",
     "text": [
      "Request: 1; Frequency: 0.33299610063946655 requests/s\n",
      "Request: 2; Frequency: 0.33281767789210115 requests/s\n",
      "Request: 3; Frequency: 0.3324383616843179 requests/s\n",
      "Request: 4; Frequency: 0.3627244373152052 requests/s\n",
      "Request: 5; Frequency: 0.3562201405926336 requests/s\n"
     ]
    }
   ],
   "source": [
    "from IPython.core.display import clear_output\n",
    "start_time = time()\n",
    "requests = 0\n",
    "for _ in range(5):\n",
    "# A request would go here\n",
    "    requests += 1\n",
    "    sleep(randint(1,3))\n",
    "    current_time = time()\n",
    "    elapsed_time = current_time - start_time\n",
    "    print('Request: {}; Frequency: {} requests/s'.format(requests, requests/elapsed_time))\n",
    "clear_output(wait = True)"
   ]
  },
  {
   "cell_type": "markdown",
   "metadata": {},
   "source": [
    "To monitor the status code we’ll set the program to warn us if there’s something off. A successful request is indicated by a status code of 200. We’ll use the warn() function from the warnings module to throw a warning if the status code is not 200."
   ]
  },
  {
   "cell_type": "code",
   "execution_count": null,
   "metadata": {},
   "outputs": [
    {
     "name": "stderr",
     "output_type": "stream",
     "text": [
      "<ipython-input-25-931ad44d99f9>:2: UserWarning: Warning Simulation\n",
      "  warn(\"Warning Simulation\")\n"
     ]
    }
   ],
   "source": [
    "from warnings import warn\n",
    "warn(\"Warning Simulation\")"
   ]
  },
  {
   "cell_type": "markdown",
   "metadata": {},
   "source": [
    "## Piecing everything together\n",
    "Now let’s piece together everything we’ve done so far! In the following code cell, we start by:\n",
    "\n",
    "Redeclaring the lists variables so they become empty again.\\n\n",
    "Preparing the monitoring of the loop.\\n\n",
    "Then, we’ll:\\n\n",
    "\n",
    "Loop through the years_url list to vary the release_date parameter of the URL.\n",
    "For each element in years_url, loop through the pages list to vary the page parameter of the URL.\n",
    "Make the GET requests within the pages loop (and give the headers parameter the right value to make sure we get only English content).\n",
    "Pause the loop for a time interval between 8 and 15 seconds.\n",
    "Monitor each request as discussed before.\n",
    "Throw a warning for non-200 status codes.\n",
    "Break the loop if the number of requests is greater than expected.\n",
    "Convert the response‘s HTML content to a BeautifulSoup object.\n",
    "Extract all movie containers from this BeautifulSoup object.\n",
    "Loop through all these containers.\n",
    "Extract the data if a container has a Metascore."
   ]
  },
  {
   "cell_type": "code",
   "execution_count": null,
   "metadata": {},
   "outputs": [
    {
     "name": "stdout",
     "output_type": "stream",
     "text": [
      "Request:68; Frequency: 0.062231746355703436 requests/s\n"
     ]
    }
   ],
   "source": [
    "headers = {\"Accept-Language\": \"en-US, en;q=0.5\"}\n",
    "# Redeclaring the lists to store data in\n",
    "names = []\n",
    "years = []\n",
    "imdb_ratings = []\n",
    "metascores = []\n",
    "votes = []\n",
    "\n",
    "# Preparing the monitoring of the loop\n",
    "start_time = time()\n",
    "requests = 0\n",
    "\n",
    "# For every year in the interval 2000-2017\n",
    "for year_url in years_url:\n",
    "\n",
    "    # For every page in the interval 1-4\n",
    "    for page in pages:\n",
    "\n",
    "        # Make a get request\n",
    "        response = get('https://www.imdb.com/search/title?release_date=' + year_url +\n",
    "        '&sort=num_votes,desc&page=' + page, headers = headers)\n",
    "\n",
    "        # Pause the loop\n",
    "        sleep(randint(8,15))\n",
    "\n",
    "        # Monitor the requests\n",
    "        requests += 1\n",
    "        elapsed_time = time() - start_time\n",
    "        print('Request:{}; Frequency: {} requests/s'.format(requests, requests/elapsed_time))\n",
    "        clear_output(wait = True)\n",
    "\n",
    "        # Throw a warning for non-200 status codes\n",
    "        if response.status_code != 200:\n",
    "            warn('Request: {}; Status code: {}'.format(requests, response.status_code))\n",
    "\n",
    "        # Break the loop if the number of requests is greater than expected\n",
    "        if requests > 72:\n",
    "            warn('Number of requests was greater than expected.')\n",
    "            break\n",
    "\n",
    "        # Parse the content of the request with BeautifulSoup\n",
    "        page_html = BeautifulSoup(response.text, 'html.parser')\n",
    "\n",
    "        # Select all the 50 movie containers from a single page\n",
    "        mv_containers = page_html.find_all('div', class_ = 'lister-item mode-advanced')\n",
    "\n",
    "        # For every movie of these 50\n",
    "        for container in mv_containers:\n",
    "            # If the movie has a Metascore, then:\n",
    "            if container.find('div', class_ = 'ratings-metascore') is not None:\n",
    "\n",
    "                # Scrape the name\n",
    "                name = container.h3.a.text\n",
    "                names.append(name)\n",
    "\n",
    "                # Scrape the year\n",
    "                year = container.h3.find('span', class_ = 'lister-item-year').text\n",
    "                years.append(year)\n",
    "\n",
    "                # Scrape the IMDB rating\n",
    "                imdb = float(container.strong.text)\n",
    "                imdb_ratings.append(imdb)\n",
    "\n",
    "                # Scrape the Metascore\n",
    "                m_score = container.find('span', class_ = 'metascore').text\n",
    "                metascores.append(int(m_score))\n",
    "\n",
    "                # Scrape the number of votes\n",
    "                vote = container.find('span', attrs = {'name':'nv'})['data-value']\n",
    "                votes.append(int(vote))"
   ]
  },
  {
   "cell_type": "code",
   "execution_count": null,
   "metadata": {},
   "outputs": [
    {
     "name": "stdout",
     "output_type": "stream",
     "text": [
      "<class 'pandas.core.frame.DataFrame'>\n",
      "RangeIndex: 3092 entries, 0 to 3091\n",
      "Data columns (total 5 columns):\n",
      " #   Column     Non-Null Count  Dtype  \n",
      "---  ------     --------------  -----  \n",
      " 0   movie      3092 non-null   object \n",
      " 1   year       3092 non-null   object \n",
      " 2   imdb       3092 non-null   float64\n",
      " 3   metascore  3092 non-null   int64  \n",
      " 4   votes      3092 non-null   int64  \n",
      "dtypes: float64(1), int64(2), object(2)\n",
      "memory usage: 120.9+ KB\n",
      "None\n"
     ]
    },
    {
     "data": {
      "text/html": [
       "<div>\n",
       "<style scoped>\n",
       "    .dataframe tbody tr th:only-of-type {\n",
       "        vertical-align: middle;\n",
       "    }\n",
       "\n",
       "    .dataframe tbody tr th {\n",
       "        vertical-align: top;\n",
       "    }\n",
       "\n",
       "    .dataframe thead th {\n",
       "        text-align: right;\n",
       "    }\n",
       "</style>\n",
       "<table border=\"1\" class=\"dataframe\">\n",
       "  <thead>\n",
       "    <tr style=\"text-align: right;\">\n",
       "      <th></th>\n",
       "      <th>movie</th>\n",
       "      <th>year</th>\n",
       "      <th>imdb</th>\n",
       "      <th>metascore</th>\n",
       "      <th>votes</th>\n",
       "    </tr>\n",
       "  </thead>\n",
       "  <tbody>\n",
       "    <tr>\n",
       "      <th>0</th>\n",
       "      <td>Gladiator</td>\n",
       "      <td>(2000)</td>\n",
       "      <td>8.5</td>\n",
       "      <td>67</td>\n",
       "      <td>1364178</td>\n",
       "    </tr>\n",
       "    <tr>\n",
       "      <th>1</th>\n",
       "      <td>Memento</td>\n",
       "      <td>(2000)</td>\n",
       "      <td>8.4</td>\n",
       "      <td>80</td>\n",
       "      <td>1143328</td>\n",
       "    </tr>\n",
       "    <tr>\n",
       "      <th>2</th>\n",
       "      <td>Snatch</td>\n",
       "      <td>(2000)</td>\n",
       "      <td>8.3</td>\n",
       "      <td>55</td>\n",
       "      <td>793442</td>\n",
       "    </tr>\n",
       "    <tr>\n",
       "      <th>3</th>\n",
       "      <td>Requiem for a Dream</td>\n",
       "      <td>(2000)</td>\n",
       "      <td>8.3</td>\n",
       "      <td>68</td>\n",
       "      <td>779089</td>\n",
       "    </tr>\n",
       "    <tr>\n",
       "      <th>4</th>\n",
       "      <td>X-Men</td>\n",
       "      <td>(2000)</td>\n",
       "      <td>7.4</td>\n",
       "      <td>64</td>\n",
       "      <td>577754</td>\n",
       "    </tr>\n",
       "    <tr>\n",
       "      <th>5</th>\n",
       "      <td>Cast Away</td>\n",
       "      <td>(2000)</td>\n",
       "      <td>7.8</td>\n",
       "      <td>73</td>\n",
       "      <td>535579</td>\n",
       "    </tr>\n",
       "    <tr>\n",
       "      <th>6</th>\n",
       "      <td>American Psycho</td>\n",
       "      <td>(2000)</td>\n",
       "      <td>7.6</td>\n",
       "      <td>64</td>\n",
       "      <td>505551</td>\n",
       "    </tr>\n",
       "    <tr>\n",
       "      <th>7</th>\n",
       "      <td>Unbreakable</td>\n",
       "      <td>(2000)</td>\n",
       "      <td>7.3</td>\n",
       "      <td>62</td>\n",
       "      <td>392066</td>\n",
       "    </tr>\n",
       "    <tr>\n",
       "      <th>8</th>\n",
       "      <td>Mission: Impossible II</td>\n",
       "      <td>(2000)</td>\n",
       "      <td>6.1</td>\n",
       "      <td>59</td>\n",
       "      <td>318886</td>\n",
       "    </tr>\n",
       "    <tr>\n",
       "      <th>9</th>\n",
       "      <td>Meet the Parents</td>\n",
       "      <td>(2000)</td>\n",
       "      <td>7.0</td>\n",
       "      <td>73</td>\n",
       "      <td>314528</td>\n",
       "    </tr>\n",
       "  </tbody>\n",
       "</table>\n",
       "</div>"
      ],
      "text/plain": [
       "                    movie    year  imdb  metascore    votes\n",
       "0               Gladiator  (2000)   8.5         67  1364178\n",
       "1                 Memento  (2000)   8.4         80  1143328\n",
       "2                  Snatch  (2000)   8.3         55   793442\n",
       "3     Requiem for a Dream  (2000)   8.3         68   779089\n",
       "4                   X-Men  (2000)   7.4         64   577754\n",
       "5               Cast Away  (2000)   7.8         73   535579\n",
       "6         American Psycho  (2000)   7.6         64   505551\n",
       "7             Unbreakable  (2000)   7.3         62   392066\n",
       "8  Mission: Impossible II  (2000)   6.1         59   318886\n",
       "9        Meet the Parents  (2000)   7.0         73   314528"
      ]
     },
     "execution_count": 27,
     "metadata": {},
     "output_type": "execute_result"
    }
   ],
   "source": [
    "movie_ratings = pd.DataFrame({'movie': names,\n",
    "'year': years,\n",
    "'imdb': imdb_ratings,\n",
    "'metascore': metascores,\n",
    "'votes': votes\n",
    "})\n",
    "print(movie_ratings.info())\n",
    "movie_ratings.head(10)"
   ]
  },
  {
   "cell_type": "markdown",
   "metadata": {},
   "source": [
    "## Cleaning the scraped data\n",
    "We’ll clean the scraped data with two goals in mind: \n",
    "plotting the distribution of IMDB and Metascore ratings, and \n",
    "sharing the dataset. Consequently, our data cleaning will consist of:\n",
    "\n",
    "Reordering the columns.\n",
    "Cleaning the year column and convert the values to integers.\n",
    "Checking the extreme rating values to determine if all the ratings are within the expected intervals.\n",
    "Normalizing one of the ratings type (or both) for generating a comparative histogram.\n",
    "Let’s start by reordering the columns:"
   ]
  },
  {
   "cell_type": "code",
   "execution_count": null,
   "metadata": {},
   "outputs": [
    {
     "data": {
      "text/html": [
       "<div>\n",
       "<style scoped>\n",
       "    .dataframe tbody tr th:only-of-type {\n",
       "        vertical-align: middle;\n",
       "    }\n",
       "\n",
       "    .dataframe tbody tr th {\n",
       "        vertical-align: top;\n",
       "    }\n",
       "\n",
       "    .dataframe thead th {\n",
       "        text-align: right;\n",
       "    }\n",
       "</style>\n",
       "<table border=\"1\" class=\"dataframe\">\n",
       "  <thead>\n",
       "    <tr style=\"text-align: right;\">\n",
       "      <th></th>\n",
       "      <th>movie</th>\n",
       "      <th>year</th>\n",
       "      <th>imdb</th>\n",
       "      <th>metascore</th>\n",
       "      <th>votes</th>\n",
       "    </tr>\n",
       "  </thead>\n",
       "  <tbody>\n",
       "    <tr>\n",
       "      <th>0</th>\n",
       "      <td>Gladiator</td>\n",
       "      <td>(2000)</td>\n",
       "      <td>8.5</td>\n",
       "      <td>67</td>\n",
       "      <td>1364178</td>\n",
       "    </tr>\n",
       "    <tr>\n",
       "      <th>1</th>\n",
       "      <td>Memento</td>\n",
       "      <td>(2000)</td>\n",
       "      <td>8.4</td>\n",
       "      <td>80</td>\n",
       "      <td>1143328</td>\n",
       "    </tr>\n",
       "    <tr>\n",
       "      <th>2</th>\n",
       "      <td>Snatch</td>\n",
       "      <td>(2000)</td>\n",
       "      <td>8.3</td>\n",
       "      <td>55</td>\n",
       "      <td>793442</td>\n",
       "    </tr>\n",
       "    <tr>\n",
       "      <th>3</th>\n",
       "      <td>Requiem for a Dream</td>\n",
       "      <td>(2000)</td>\n",
       "      <td>8.3</td>\n",
       "      <td>68</td>\n",
       "      <td>779089</td>\n",
       "    </tr>\n",
       "    <tr>\n",
       "      <th>4</th>\n",
       "      <td>X-Men</td>\n",
       "      <td>(2000)</td>\n",
       "      <td>7.4</td>\n",
       "      <td>64</td>\n",
       "      <td>577754</td>\n",
       "    </tr>\n",
       "  </tbody>\n",
       "</table>\n",
       "</div>"
      ],
      "text/plain": [
       "                 movie    year  imdb  metascore    votes\n",
       "0            Gladiator  (2000)   8.5         67  1364178\n",
       "1              Memento  (2000)   8.4         80  1143328\n",
       "2               Snatch  (2000)   8.3         55   793442\n",
       "3  Requiem for a Dream  (2000)   8.3         68   779089\n",
       "4                X-Men  (2000)   7.4         64   577754"
      ]
     },
     "execution_count": 28,
     "metadata": {},
     "output_type": "execute_result"
    }
   ],
   "source": [
    "movie_ratings = movie_ratings[['movie', 'year', 'imdb', 'metascore', 'votes']]\n",
    "movie_ratings.head()"
   ]
  },
  {
   "cell_type": "markdown",
   "metadata": {},
   "source": [
    "Now let’s convert all the values in the year column to integers.\n",
    "\n",
    "Right now all the values are of the object type. To avoid ValueErrors upon conversion, we want the values to be composed only from numbers from 0 to 9.\n",
    "\n",
    "Let’s examine the unique values of the year column. This helps us to get an idea of what we could do to make the conversions we want. To see all the unique values, we’ll use the unique() method:"
   ]
  },
  {
   "cell_type": "code",
   "execution_count": null,
   "metadata": {},
   "outputs": [
    {
     "data": {
      "text/plain": [
       "array(['(2000)', '(I) (2000)', '(2001)', '(2002)', '(2003)', '(2004)',\n",
       "       '(I) (2004)', '(2005)', '(I) (2005)', '(2006)', '(I) (2006)',\n",
       "       '(2007)', '(I) (2007)', '(2008)', '(I) (2008)', '(2009)',\n",
       "       '(I) (2009)', '(2010)', '(I) (2010)', '(2011)', '(I) (2011)',\n",
       "       '(2012)', '(I) (2012)', '(2013)', '(I) (2013)', '(2014)',\n",
       "       '(I) (2014)', '(II) (2014)', '(2015)', '(I) (2015)', '(II) (2015)',\n",
       "       '(2016)', '(II) (2016)', '(IX) (2016)', '(I) (2016)'], dtype=object)"
      ]
     },
     "execution_count": 29,
     "metadata": {},
     "output_type": "execute_result"
    }
   ],
   "source": [
    "movie_ratings['year'].unique()"
   ]
  },
  {
   "cell_type": "markdown",
   "metadata": {},
   "source": [
    "Counting from the end toward beginning, we can see that the years are always located from the fifth character to the second. We’ll use the .str() method to select only that interval. We’ll also convert the result to an integer using the astype() method:"
   ]
  },
  {
   "cell_type": "code",
   "execution_count": null,
   "metadata": {},
   "outputs": [],
   "source": [
    "movie_ratings.loc[:, 'year'] = movie_ratings['year'].str[-5:-1].astype(int)\n"
   ]
  },
  {
   "cell_type": "code",
   "execution_count": null,
   "metadata": {},
   "outputs": [
    {
     "data": {
      "text/plain": [
       "0    2000\n",
       "1    2000\n",
       "2    2000\n",
       "Name: year, dtype: int32"
      ]
     },
     "execution_count": 31,
     "metadata": {},
     "output_type": "execute_result"
    }
   ],
   "source": [
    "movie_ratings['year'].head(3)"
   ]
  },
  {
   "cell_type": "markdown",
   "metadata": {},
   "source": [
    "Now we’ll check the minimum and maximum values of each type of rating. We can do this very quickly by using pandas’ describe() method. When applied on a DataFrame, this method returns various descriptive statistics for each numerical column of the DataFrame. In the next line of code we select only those rows that describe the minimum and maximum values, and only those columns which describe IMDB ratings and Metascores."
   ]
  },
  {
   "cell_type": "code",
   "execution_count": null,
   "metadata": {},
   "outputs": [
    {
     "data": {
      "text/html": [
       "<div>\n",
       "<style scoped>\n",
       "    .dataframe tbody tr th:only-of-type {\n",
       "        vertical-align: middle;\n",
       "    }\n",
       "\n",
       "    .dataframe tbody tr th {\n",
       "        vertical-align: top;\n",
       "    }\n",
       "\n",
       "    .dataframe thead th {\n",
       "        text-align: right;\n",
       "    }\n",
       "</style>\n",
       "<table border=\"1\" class=\"dataframe\">\n",
       "  <thead>\n",
       "    <tr style=\"text-align: right;\">\n",
       "      <th></th>\n",
       "      <th>imdb</th>\n",
       "      <th>metascore</th>\n",
       "    </tr>\n",
       "  </thead>\n",
       "  <tbody>\n",
       "    <tr>\n",
       "      <th>min</th>\n",
       "      <td>4.1</td>\n",
       "      <td>24.0</td>\n",
       "    </tr>\n",
       "    <tr>\n",
       "      <th>max</th>\n",
       "      <td>9.0</td>\n",
       "      <td>100.0</td>\n",
       "    </tr>\n",
       "  </tbody>\n",
       "</table>\n",
       "</div>"
      ],
      "text/plain": [
       "     imdb  metascore\n",
       "min   4.1       24.0\n",
       "max   9.0      100.0"
      ]
     },
     "execution_count": 32,
     "metadata": {},
     "output_type": "execute_result"
    }
   ],
   "source": [
    "movie_ratings.describe().loc[['min', 'max'], ['imdb', 'metascore']]"
   ]
  },
  {
   "cell_type": "markdown",
   "metadata": {},
   "source": [
    "There are no unexpected outliers.\n",
    "\n",
    "From the values above, you can see that the two ratings have different scales. To be able to plot the two distributions on a single graph, we’ll have to bring them to the same scale. Let’s normalize the imdb column to a 100-points scale.\n",
    "\n",
    "We’ll multiply each IMDB rating by 10, and then we’ll do a quick check by looking at the first 3 rows:"
   ]
  },
  {
   "cell_type": "code",
   "execution_count": null,
   "metadata": {},
   "outputs": [
    {
     "data": {
      "text/html": [
       "<div>\n",
       "<style scoped>\n",
       "    .dataframe tbody tr th:only-of-type {\n",
       "        vertical-align: middle;\n",
       "    }\n",
       "\n",
       "    .dataframe tbody tr th {\n",
       "        vertical-align: top;\n",
       "    }\n",
       "\n",
       "    .dataframe thead th {\n",
       "        text-align: right;\n",
       "    }\n",
       "</style>\n",
       "<table border=\"1\" class=\"dataframe\">\n",
       "  <thead>\n",
       "    <tr style=\"text-align: right;\">\n",
       "      <th></th>\n",
       "      <th>movie</th>\n",
       "      <th>year</th>\n",
       "      <th>imdb</th>\n",
       "      <th>metascore</th>\n",
       "      <th>votes</th>\n",
       "      <th>n_imdb</th>\n",
       "    </tr>\n",
       "  </thead>\n",
       "  <tbody>\n",
       "    <tr>\n",
       "      <th>0</th>\n",
       "      <td>Gladiator</td>\n",
       "      <td>2000</td>\n",
       "      <td>8.5</td>\n",
       "      <td>67</td>\n",
       "      <td>1364178</td>\n",
       "      <td>85.0</td>\n",
       "    </tr>\n",
       "    <tr>\n",
       "      <th>1</th>\n",
       "      <td>Memento</td>\n",
       "      <td>2000</td>\n",
       "      <td>8.4</td>\n",
       "      <td>80</td>\n",
       "      <td>1143328</td>\n",
       "      <td>84.0</td>\n",
       "    </tr>\n",
       "    <tr>\n",
       "      <th>2</th>\n",
       "      <td>Snatch</td>\n",
       "      <td>2000</td>\n",
       "      <td>8.3</td>\n",
       "      <td>55</td>\n",
       "      <td>793442</td>\n",
       "      <td>83.0</td>\n",
       "    </tr>\n",
       "  </tbody>\n",
       "</table>\n",
       "</div>"
      ],
      "text/plain": [
       "       movie  year  imdb  metascore    votes  n_imdb\n",
       "0  Gladiator  2000   8.5         67  1364178    85.0\n",
       "1    Memento  2000   8.4         80  1143328    84.0\n",
       "2     Snatch  2000   8.3         55   793442    83.0"
      ]
     },
     "execution_count": 33,
     "metadata": {},
     "output_type": "execute_result"
    }
   ],
   "source": [
    "movie_ratings['n_imdb'] = movie_ratings['imdb'] * 10\n",
    "movie_ratings.head(3)"
   ]
  },
  {
   "cell_type": "code",
   "execution_count": null,
   "metadata": {},
   "outputs": [],
   "source": [
    "##Saving to CSV\n",
    "movie_ratings.to_csv('movie_ratings.csv')"
   ]
  },
  {
   "cell_type": "markdown",
   "metadata": {},
   "source": [
    "As a side note, I strongly recommend saving the scraped dataset before exiting (or restarting) your notebook kernel. This way you will only have to import the dataset when you resume working, and don’t have to run the scraping script again. This becomes extremely useful if you scrape hundreds or thousands of web pages.\n",
    "\n",
    "Finally, let’s plot the distributions!"
   ]
  },
  {
   "cell_type": "markdown",
   "metadata": {},
   "source": [
    "\n",
    "### Plotting and analyzing the distributions\n",
    "In the following code cell we:\n",
    "\n",
    "Import the matplotlib.pyplot submodule.\n",
    "Run the Jupyter magic %matplotlib to activate Jupyter’s matplotlib mode and add inline to have our graphs displayed inside the notebook.\n",
    "Create a figure object with 3 axes.\n",
    "Plot the distribution of each unnormalized rating on an individual ax.\n",
    "Plot the normalized distributions of the two ratings on the same ax.\n",
    "Hide the top and right spines of all the three axes."
   ]
  },
  {
   "cell_type": "code",
   "execution_count": null,
   "metadata": {},
   "outputs": [
    {
     "data": {
      "text/plain": [
       "<AxesSubplot:xlabel='imdb', ylabel='Count'>"
      ]
     },
     "execution_count": 38,
     "metadata": {},
     "output_type": "execute_result"
    },
    {
     "data": {
      "image/png": "[encoded data removed]",
      "text/plain": [
       "<Figure size 432x288 with 1 Axes>"
      ]
     },
     "metadata": {
      "needs_background": "light"
     },
     "output_type": "display_data"
    }
   ],
   "source": [
    "import matplotlib.pyplot as plt\n",
    "'''\n",
    "fig, axes = plt.subplots(nrows = 1, ncols = 3, figsize = (16,4))\n",
    "ax1, ax2, ax3 = fig.axes\n",
    "ax1.hist(movie_ratings['imdb'], bins = 10, range = (0,10)) # bin range = 1\n",
    "ax1.set_title('IMDB rating')\n",
    "ax2.hist(movie_ratings['metascore'], bins = 10, range = (0,100)) # bin range = 10\n",
    "ax2.set_title('Metascore')\n",
    "ax3.hist(movie_ratings['n_imdb'], bins = 10, range = (0,100), histtype = 'step')\n",
    "ax3.hist(movie_ratings['metascore'], bins = 10, range = (0,100), histtype = 'step')\n",
    "ax3.legend(loc = 'upper left')\n",
    "ax3.set_title('The Two Normalized Distributions')\n",
    "for ax in fig.axes:\n",
    "    ax.spines['top'].set_visible(False)\n",
    "    ax.spines['right'].set_visible(False)\n",
    "plt.show()\n",
    "'''\n",
    "import seaborn as sns\n",
    "sns.histplot(data=movie_ratings, x=\"imdb\")\n"
   ]
  },
  {
   "cell_type": "code",
   "execution_count": null,
   "metadata": {},
   "outputs": [
    {
     "data": {
      "text/plain": [
       "<AxesSubplot:xlabel='metascore', ylabel='Count'>"
      ]
     },
     "execution_count": 40,
     "metadata": {},
     "output_type": "execute_result"
    },
    {
     "data": {
      "image/png": "[encoded data removed]",
      "text/plain": [
       "<Figure size 432x288 with 1 Axes>"
      ]
     },
     "metadata": {
      "needs_background": "light"
     },
     "output_type": "display_data"
    }
   ],
   "source": [
    "sns.histplot(data=movie_ratings, x=\"metascore\")\n"
   ]
  },
  {
   "cell_type": "code",
   "execution_count": null,
   "metadata": {},
   "outputs": [
    {
     "data": {
      "text/plain": [
       "<AxesSubplot:xlabel='n_imdb', ylabel='Count'>"
      ]
     },
     "execution_count": 42,
     "metadata": {},
     "output_type": "execute_result"
    },
    {
     "data": {
      "image/png": "[encoded data removed]",
      "text/plain": [
       "<Figure size 432x288 with 1 Axes>"
      ]
     },
     "metadata": {
      "needs_background": "light"
     },
     "output_type": "display_data"
    }
   ],
   "source": [
    "sns.histplot(data=movie_ratings, x=\"n_imdb\", kde=True)"
   ]
  },
  {
   "cell_type": "markdown",
   "metadata": {},
   "source": [
    "Starting with the IMDB histogram, we can see that most ratings are between 6 and 8. There are few movies with a rating greater than 8, and even fewer with a rating smaller than 4. This indicates that both very good movies and very bad movies are rarer.\n",
    "\n",
    "The distribution of Metascore ratings resembles a normal distribution – most ratings are average, peaking at the value of approximately 50. From this peak, the frequencies gradually decrease toward extreme rating values. According to this distribution, there are indeed fewer very good and very bad movies, but not that few as the IMDB ratings indicate.\n",
    "\n",
    "On the comparative graph, it’s clearer that the IMDB distribution is highly skewed toward the higher part of the average ratings, while the Metascore ratings seem to have a much more balanced distribution.\n",
    "\n",
    "What might be the reason for that skew in the IMDB distribution? One hypothesis is that many users tend to have a binary method of assessing movies. If they like the movie, they give it a 10. If they don’t like the movie, they give it a very small rating, or they don’t bother to rate the movie. This an interesting problem that’s worth being explored in more detail."
   ]
  }
 ],
 "metadata": {
  "kernelspec": {
   "display_name": "PowerShell",
   "language": "powershell",
   "name": "powershell"
  },
  "language_info": {
   "codemirror_mode": {
    "name": "ipython",
    "version": 3
   },
   "file_extension": ".py",
   "mimetype": "text/x-python",
   "name": "python",
   "nbconvert_exporter": "python",
   "pygments_lexer": "ipython3",
   "version": "3.9.4"
  },
  "metadata": {
   "interpreter": {
    "hash": "247ab06e135bb35fa78c5eff31b2a9a0050dcb5fb773c2631d2a29ac689eeccb"
   }
  }
 },
 "nbformat": 4,
 "nbformat_minor": 2
}
